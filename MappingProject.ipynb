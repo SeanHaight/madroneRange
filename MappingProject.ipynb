{
 "cells": [
  {
   "cell_type": "code",
   "execution_count": 5,
   "metadata": {},
   "outputs": [],
   "source": [
    "import pandas as pd\n",
    "import numpy as np\n",
    "import math\n",
    "import matplotlib.pyplot as plt\n",
    "import shapely\n",
    "from shapely.geometry import mapping, Polygon, MultiPoint, MultiPolygon, shape\n",
    "import fiona\n",
    "import os\n",
    "import shutil\n",
    "import random\n",
    "from shapely.geometry import MultiPolygon"
   ]
  },
  {
   "cell_type": "code",
   "execution_count": 166,
   "metadata": {},
   "outputs": [
    {
     "name": "stderr",
     "output_type": "stream",
     "text": [
      "/tmp/ipykernel_3511/2179390862.py:1: DtypeWarning: Columns (10,39,46) have mixed types. Specify dtype option on import or set low_memory=False.\n",
      "  arbutusObsRaw = pd.read_csv(\"ArbutusObsevations.csv\", sep = \"\\t\")\n"
     ]
    }
   ],
   "source": [
    "arbutusObsRaw = pd.read_csv(\"ArbutusObsevations.csv\", sep = \"\\t\")\n",
    "arbutusObs = arbutusObsRaw[['species', 'decimalLatitude', 'decimalLongitude', 'coordinateUncertaintyInMeters', 'coordinatePrecision', 'elevation']]\n",
    "arbutusObs = arbutusObs.dropna(subset=['species'])"
   ]
  },
  {
   "cell_type": "code",
   "execution_count": 81,
   "metadata": {},
   "outputs": [],
   "source": [
    "def extractCoords(obsFrame):\n",
    "    coords = {}\n",
    "    speciesNames = obsFrame[\"species\"].unique()\n",
    "    for species in speciesNames:\n",
    "        currSpeciesObs = obsFrame[obsFrame[\"species\"] == species]\n",
    "        if currSpeciesObs.index.size == 1:\n",
    "                currSpeciesPts = [[currSpeciesObs[\"decimalLongitude\"].iloc(0)[i],currSpeciesObs[\"decimalLatitude\"].iloc(0)[i]] for i in range(len(currSpeciesObs[\"decimalLongitude\"]))]\n",
    "        else:\n",
    "            latMean = currSpeciesObs[\"decimalLatitude\"].astype(int).mean()\n",
    "            lonMean = currSpeciesObs[\"decimalLongitude\"].astype(int).mean()\n",
    "            latStd = currSpeciesObs[\"decimalLatitude\"].astype(int).std()\n",
    "            lonStd = currSpeciesObs[\"decimalLongitude\"].astype(int).std()\n",
    "            currSpeciesObs = currSpeciesObs[np.abs(currSpeciesObs[\"decimalLatitude\"].astype(int) - latMean)/(latStd + .1) < 5]\n",
    "            currSpeciesObs = currSpeciesObs[np.abs(currSpeciesObs[\"decimalLongitude\"].astype(int) - lonMean)/(lonStd + .1) < 5]\n",
    "            currSpeciesPts = [[currSpeciesObs[\"decimalLongitude\"].iloc(0)[i],currSpeciesObs[\"decimalLatitude\"].iloc(0)[i]] for i in range(len(currSpeciesObs[\"decimalLongitude\"]))]\n",
    "        coords[species] = currSpeciesPts\n",
    "    return coords\n"
   ]
  },
  {
   "cell_type": "code",
   "execution_count": 8,
   "metadata": {},
   "outputs": [],
   "source": [
    "def minDist(l1,l2):\n",
    "    M = 9999\n",
    "    for pt1 in l1:\n",
    "       for pt2 in l2:\n",
    "           M = min(math.dist(pt1,pt2), M)\n",
    "    return M"
   ]
  },
  {
   "cell_type": "code",
   "execution_count": 9,
   "metadata": {},
   "outputs": [],
   "source": [
    "def minDistRandom(l1,l2):\n",
    "    M = 9999\n",
    "    numSample = 100\n",
    "#Generate 5 random numbers between 10 and 30\n",
    "    randomlist1 = random.sample(l1, min(numSample, len(l1)))\n",
    "    randomlist2 = random.sample(l2, min(numSample, len(l2)))\n",
    "    \n",
    "    for pt1 in randomlist1:\n",
    "       for pt2 in randomlist2:\n",
    "           M = min(math.dist(pt1,pt2), M)\n",
    "    return M"
   ]
  },
  {
   "cell_type": "code",
   "execution_count": 100,
   "metadata": {},
   "outputs": [],
   "source": [
    "def myClustering(points, maxDist):\n",
    "    populations = []\n",
    "    sortedPoints = sorted(points , key=lambda k: [k[1], k[0]])\n",
    "    minPop = []\n",
    "    minPop.append(sortedPoints[0])\n",
    "    populations.append(minPop)\n",
    "    counter = 0\n",
    "    maxMinDist = 0\n",
    "    for pt in sortedPoints: \n",
    "        counter += 1\n",
    "        print(counter)\n",
    "        D = minDist([pt], populations[0])\n",
    "        for pop in populations:\n",
    "            D2 = minDist([pt], pop)\n",
    "            maxMinDist = max(maxMinDist, D2)\n",
    "            if D2 < D:\n",
    "                minPop = pop\n",
    "                D = D2\n",
    "        if D2 < maxDist:\n",
    "            minPop.append(pt)\n",
    "        else: \n",
    "            populations.append([pt])\n",
    "    print(maxMinDist)\n",
    "        #compute the mininum distance to a population\n",
    " #If this minimum distance is bigger than max distance, make a new population. \n",
    "    return populations"
   ]
  },
  {
   "cell_type": "code",
   "execution_count": 113,
   "metadata": {},
   "outputs": [],
   "source": [
    "def myClusteringFast(points, maxDist):\n",
    "    populations = []\n",
    "    populationsDict = {}\n",
    "    sortedPoints = sorted(points , key=lambda k: [k[0], k[1]])\n",
    "\n",
    "    maxMinDist = 0\n",
    "    counter = 0\n",
    "    while counter < len(sortedPoints):\n",
    "        currPoint = sortedPoints[counter]\n",
    "        D = maxDist\n",
    "        minIndex = -1\n",
    "        for i in range(1,min(counter,10)):\n",
    "            D2 = minDistRandom([currPoint], [sortedPoints[counter - i]])\n",
    "            if  D2 < D:\n",
    "                D = D2\n",
    "                maxMinDist = max(D2,maxMinDist) \n",
    "                minIndex = counter - i\n",
    "        if minIndex != -1:\n",
    "            popIndex = populationsDict[minIndex]\n",
    "            populations[popIndex].append(currPoint)\n",
    "            populationsDict[counter] = popIndex\n",
    "        else: \n",
    "            populations.append([currPoint])\n",
    "            populationsDict[counter] = len(populations) - 1\n",
    "        counter = counter + 1\n",
    "        #compute the mininum distance to a population\n",
    " #If this minimum distance is bigger than max distance, make a new population. \n",
    "    return populations"
   ]
  },
  {
   "cell_type": "code",
   "execution_count": 12,
   "metadata": {},
   "outputs": [],
   "source": [
    "def postProcessing(populations, maxDist):\n",
    "    newPopulations = []\n",
    "    for i in range(len(populations)):\n",
    "        j = 0\n",
    "        while j < len(newPopulations):\n",
    "            if maxDist > minDist(populations[i], newPopulations[j]):\n",
    "                newPopulations[j] = newPopulations[j] + populations[i]\n",
    "                break\n",
    "            j = j + 1\n",
    "        if j == len(newPopulations):\n",
    "            newPopulations.append(populations[i])\n",
    "    return newPopulations\n",
    "\n",
    "\n",
    "    # for each pop in populations\n",
    "    #loop through the previous populations\n",
    "    #If one is too close, combine the two and add it to the, 'toy' question\n",
    "    #return the new population"
   ]
  },
  {
   "cell_type": "code",
   "execution_count": 13,
   "metadata": {},
   "outputs": [],
   "source": [
    "def postProcessingRandom(populations, maxDist):\n",
    "    newPopulations = []\n",
    "    counter = 0 \n",
    "    for i in range(len(populations)):\n",
    "        j = 0\n",
    "        while j < len(newPopulations):\n",
    "            if maxDist > minDistRandom(populations[i], newPopulations[j]):\n",
    "                newPopulations[j] = newPopulations[j] + populations[i]\n",
    "                break\n",
    "            j = j + 1\n",
    "        if j == len(newPopulations):\n",
    "            newPopulations.append(populations[i])\n",
    "        counter = counter + 1\n",
    "    return newPopulations\n",
    "\n",
    "\n",
    "    # for each pop in populations\n",
    "    #loop through the previous populations\n",
    "    #If one is too close, combine the two and add it to the list\n",
    "    #If none is close enough just add the population in question\n",
    "    #return the new population"
   ]
  },
  {
   "cell_type": "code",
   "execution_count": 94,
   "metadata": {},
   "outputs": [],
   "source": [
    "def formPopulations(coordDictionary, maxDist):\n",
    "    populationDict = {}\n",
    "    for species in coordDictionary.keys():\n",
    "        currPopulationsPre = myClusteringFast(coordDictionary[species], maxDist)\n",
    "        currPopulationsPost = postProcessingRandom(currPopulationsPre,maxDist)\n",
    "        prevLength = 0\n",
    "        while len(currPopulationsPost) != prevLength:\n",
    "            prevLength = len(currPopulationsPost) \n",
    "            currPopulationsPost = postProcessingRandom(currPopulationsPost, maxDist)\n",
    "        populationDict[species] = postProcessing(currPopulationsPost, maxDist)\n",
    "    return populationDict"
   ]
  },
  {
   "cell_type": "code",
   "execution_count": 89,
   "metadata": {},
   "outputs": [],
   "source": [
    "def showPopulations(populationDict, width):\n",
    "    fig, axs = plt.subplots(len(populationDict.keys()), figsize=(width, width*len(populationDict.keys())))\n",
    "    fig.suptitle('Vertically stacked subplots')\n",
    "\n",
    "    counter = 0\n",
    "    for species in populationDict.keys():\n",
    "        populations = populationDict[species]\n",
    "        for i in range(len(populations)):\n",
    "            axs[counter].plot(np.array(populations[i])[:,0], np.array(populations[i])[:,1], 'o')\n",
    "        counter = counter + 1"
   ]
  },
  {
   "cell_type": "code",
   "execution_count": 158,
   "metadata": {},
   "outputs": [],
   "source": [
    "def formPolygons(populationDict, buffRad):\n",
    "    bufferedPolysDict = {}\n",
    "    for species in populationDict.keys():\n",
    "        specPolys = []\n",
    "        for pop in populationDict[species]:\n",
    "            specPolys.append(shapely.concave_hull(MultiPoint(pop), ratio=0.1))\n",
    "        bufferedPolysList = []\n",
    "        for poly in specPolys:\n",
    "            bufferedPolysList.append(shapely.buffer(poly, buffRad, 2))\n",
    "        bufferedPolysDict[species] = MultiPolygon(bufferedPolysList)\n",
    "    return bufferedPolysDict\n"
   ]
  },
  {
   "cell_type": "code",
   "execution_count": 162,
   "metadata": {},
   "outputs": [],
   "source": [
    "def savePolygons(polyDict):\n",
    "    schema = {\n",
    "        'geometry': 'MultiPolygon',\n",
    "        'properties': {'id': 'int'},\n",
    "    }\n",
    "\n",
    "    counter = 0\n",
    "    print(polyDict.keys())\n",
    "    for species in polyDict.keys():\n",
    "        dirName = 'shapes/' + species\n",
    "        fileName = dirName + '/' + species + 'shp' + '.shp'\n",
    "        os.makedirs(dirName)\n",
    "        with fiona.open(fileName, 'w', 'ESRI Shapefile', schema) as c:\n",
    "        ## If there are multiple geometries, put the \"for\" loop here\n",
    "            c.write({\n",
    "                'geometry': mapping(polyDict[species]),\n",
    "                'properties': {'id': 122},\n",
    "            })\n",
    "        shutil.make_archive('shapes/' + species, 'zip', dirName)\n",
    "\n",
    "\n"
   ]
  },
  {
   "cell_type": "code",
   "execution_count": 167,
   "metadata": {},
   "outputs": [],
   "source": [
    "coordDict = extractCoords(arbutusObs)"
   ]
  },
  {
   "cell_type": "code",
   "execution_count": 168,
   "metadata": {},
   "outputs": [],
   "source": [
    "populationDict = formPopulations(coordDict, .9)"
   ]
  },
  {
   "cell_type": "code",
   "execution_count": 169,
   "metadata": {},
   "outputs": [],
   "source": [
    "polyDict = formPolygons(populationDict, .25)"
   ]
  },
  {
   "cell_type": "code",
   "execution_count": 171,
   "metadata": {},
   "outputs": [
    {
     "name": "stdout",
     "output_type": "stream",
     "text": [
      "dict_keys(['Arbutus unedo', 'Arbutus menziesii', 'Arbutus arizonica', 'Arbutus madrensis', 'Arbutus xalapensis', 'Arbutus bicolor', 'Arbutus andrachne', 'Arbutus tessellata', 'Arbutus canariensis', 'Arbutus mollis', 'Arbutus andrachnoides', 'Arbutus androsterilis'])\n"
     ]
    }
   ],
   "source": [
    "savePolygons(polyDict)"
   ]
  },
  {
   "cell_type": "code",
   "execution_count": 19,
   "metadata": {},
   "outputs": [
    {
     "ename": "NameError",
     "evalue": "name 'unedoPolys' is not defined",
     "output_type": "error",
     "traceback": [
      "\u001b[0;31m---------------------------------------------------------------------------\u001b[0m",
      "\u001b[0;31mNameError\u001b[0m                                 Traceback (most recent call last)",
      "\u001b[1;32m/home/fenton/Documents/Coding/madroneRange/madroneRange/MappingProject.ipynb Cell 14\u001b[0m line \u001b[0;36m2\n\u001b[1;32m      <a href='vscode-notebook-cell:/home/fenton/Documents/Coding/madroneRange/madroneRange/MappingProject.ipynb#X26sZmlsZQ%3D%3D?line=0'>1</a>\u001b[0m unedoPolysBoundaries \u001b[39m=\u001b[39m []\n\u001b[0;32m----> <a href='vscode-notebook-cell:/home/fenton/Documents/Coding/madroneRange/madroneRange/MappingProject.ipynb#X26sZmlsZQ%3D%3D?line=1'>2</a>\u001b[0m \u001b[39mfor\u001b[39;00m poly \u001b[39min\u001b[39;00m unedoPolys:\n\u001b[1;32m      <a href='vscode-notebook-cell:/home/fenton/Documents/Coding/madroneRange/madroneRange/MappingProject.ipynb#X26sZmlsZQ%3D%3D?line=2'>3</a>\u001b[0m     \u001b[39mif\u001b[39;00m poly\u001b[39m.\u001b[39mgeom_type \u001b[39m==\u001b[39m \u001b[39m\"\u001b[39m\u001b[39mPolygon\u001b[39m\u001b[39m\"\u001b[39m:\n\u001b[1;32m      <a href='vscode-notebook-cell:/home/fenton/Documents/Coding/madroneRange/madroneRange/MappingProject.ipynb#X26sZmlsZQ%3D%3D?line=3'>4</a>\u001b[0m         unedoPolysBoundaries\u001b[39m.\u001b[39mappend(\u001b[39mlist\u001b[39m(poly\u001b[39m.\u001b[39mexterior\u001b[39m.\u001b[39mcoords))\n",
      "\u001b[0;31mNameError\u001b[0m: name 'unedoPolys' is not defined"
     ]
    }
   ],
   "source": [
    "unedoPolysBoundaries = []\n",
    "for poly in unedoPolys:\n",
    "    if poly.geom_type == \"Polygon\":\n",
    "        unedoPolysBoundaries.append(list(poly.exterior.coords))\n",
    "    if poly.geom_type == \"Point\":\n",
    "        unedoPolysBoundaries.append(list(poly.coords))\n",
    "    if poly.geom_type == \"LineString\":\n",
    "        unedoPolysBoundaries.append(list(poly.coords))"
   ]
  },
  {
   "cell_type": "code",
   "execution_count": null,
   "metadata": {},
   "outputs": [],
   "source": [
    "bufferedBoundaries = []\n",
    "rad = .5\n",
    "for poly in unedoPolysBoundaries:\n",
    "    currBuffBound = []\n",
    "    for pt in poly:\n",
    "        currBuffBound.append(list(pt))\n",
    "        currBuffBound.append([pt[0] + rad, pt[1]])\n",
    "        currBuffBound.append([pt[0] , pt[1] + rad])\n",
    "        currBuffBound.append([pt[0] - rad, pt[1]])\n",
    "        currBuffBound.append([pt[0], pt[1] - rad])\n",
    "    bufferedBoundaries.append(currBuffBound)"
   ]
  },
  {
   "cell_type": "code",
   "execution_count": null,
   "metadata": {},
   "outputs": [
    {
     "ename": "NameError",
     "evalue": "name 'bufferedBoundaries' is not defined",
     "output_type": "error",
     "traceback": [
      "\u001b[0;31m---------------------------------------------------------------------------\u001b[0m",
      "\u001b[0;31mNameError\u001b[0m                                 Traceback (most recent call last)",
      "\u001b[1;32m/home/fenton/Documents/Coding/madroneRange/madroneRange/MappingProject.ipynb Cell 23\u001b[0m line \u001b[0;36m2\n\u001b[1;32m      <a href='vscode-notebook-cell:/home/fenton/Documents/Coding/madroneRange/madroneRange/MappingProject.ipynb#X31sZmlsZQ%3D%3D?line=0'>1</a>\u001b[0m bufferedPolys \u001b[39m=\u001b[39m []\n\u001b[0;32m----> <a href='vscode-notebook-cell:/home/fenton/Documents/Coding/madroneRange/madroneRange/MappingProject.ipynb#X31sZmlsZQ%3D%3D?line=1'>2</a>\u001b[0m \u001b[39mfor\u001b[39;00m pop \u001b[39min\u001b[39;00m bufferedBoundaries:\n\u001b[1;32m      <a href='vscode-notebook-cell:/home/fenton/Documents/Coding/madroneRange/madroneRange/MappingProject.ipynb#X31sZmlsZQ%3D%3D?line=2'>3</a>\u001b[0m     bufferedPolys\u001b[39m.\u001b[39mappend(shapely\u001b[39m.\u001b[39mconcave_hull(MultiPoint(pop), ratio\u001b[39m=\u001b[39m\u001b[39m0.1\u001b[39m))\n",
      "\u001b[0;31mNameError\u001b[0m: name 'bufferedBoundaries' is not defined"
     ]
    }
   ],
   "source": [
    "bufferedPolys = []\n",
    "for pop in bufferedBoundaries:\n",
    "    bufferedPolys.append(shapely.concave_hull(MultiPoint(pop), ratio=0.1))"
   ]
  },
  {
   "cell_type": "code",
   "execution_count": null,
   "metadata": {},
   "outputs": [],
   "source": [
    "Multi = MultiPolygon(bufferedAttempt2) "
   ]
  },
  {
   "cell_type": "code",
   "execution_count": null,
   "metadata": {},
   "outputs": [
    {
     "data": {
      "text/plain": [
       "'/home/fenton/Documents/Coding/madroneRange/madroneRange/shapes/combined_unedo_shpZipped.zip'"
      ]
     },
     "execution_count": 25,
     "metadata": {},
     "output_type": "execute_result"
    }
   ],
   "source": []
  },
  {
   "cell_type": "code",
   "execution_count": null,
   "metadata": {},
   "outputs": [],
   "source": [
    "schema = {\n",
    "    'geometry': 'Polygon',\n",
    "    'properties': {'id': 'int'},\n",
    "}\n",
    "\n",
    "counter = 0\n",
    "for polygon in bufferedAttempt2:\n",
    "    dirHead = 'shapes/my_unedo_shp'\n",
    "    dirName = 'shapes/my_unedo_shp' + str(counter)\n",
    "    fileName = dirName + '/my_unedo_shp' + str(counter) + '.shp'\n",
    "    os.makedirs(dirName)\n",
    "    with fiona.open(fileName, 'w', 'ESRI Shapefile', schema) as c:\n",
    "    ## If there are multiple geometries, put the \"for\" loop here\n",
    "        c.write({\n",
    "            'geometry': mapping(polygon),\n",
    "            'properties': {'id': 123},\n",
    "        })\n",
    "    shutil.make_archive('shapes/unedoBuffThree' + str(counter) + 'Zipped', 'zip', dirName)\n",
    "    counter = counter + 1"
   ]
  },
  {
   "cell_type": "code",
   "execution_count": null,
   "metadata": {},
   "outputs": [],
   "source": []
  }
 ],
 "metadata": {
  "kernelspec": {
   "display_name": "Python 3",
   "language": "python",
   "name": "python3"
  },
  "language_info": {
   "codemirror_mode": {
    "name": "ipython",
    "version": 3
   },
   "file_extension": ".py",
   "mimetype": "text/x-python",
   "name": "python",
   "nbconvert_exporter": "python",
   "pygments_lexer": "ipython3",
   "version": "3.10.13"
  }
 },
 "nbformat": 4,
 "nbformat_minor": 2
}
